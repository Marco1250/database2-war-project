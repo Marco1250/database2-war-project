{
 "cells": [
  {
   "cell_type": "markdown",
   "metadata": {},
   "source": [
    "## Basket Data Processing"
   ]
  },
  {
   "cell_type": "code",
   "execution_count": 1,
   "metadata": {},
   "outputs": [],
   "source": [
    "# required libraries\n",
    "import pandas as pd\n",
    "import os\n",
    "import datetime\n",
    "from pathlib import Path\n",
    "# Load the required libraries\n",
    "from rdflib import Graph, Literal, RDF, URIRef, Namespace\n",
    "# rdflib knows about some namespaces, like FOAF\n",
    "from rdflib.namespace import FOAF, XSD"
   ]
  },
  {
   "cell_type": "code",
   "execution_count": 2,
   "metadata": {},
   "outputs": [],
   "source": [
    "#parameters and URLs\n",
    "path = str(Path(os.path.abspath(os.getcwd())).parent.absolute())\n",
    "\n",
    "gamesUrl=path+'/data/games.csv'\n",
    "teamsUrl=path+'/data/teams.csv'\n",
    "rankingUrl=path+'/data/ranking.csv'\n",
    "playerUrl=path+'/data/players.csv'\n",
    "gameDetailUrl=path+'/data/games_details.csv'\n",
    "\n",
    "#savePath\n",
    "savePath= path + '/data/rdf/'\n"
   ]
  },
  {
   "cell_type": "code",
   "execution_count": 3,
   "metadata": {},
   "outputs": [],
   "source": [
    "SO=Namespace(\"http://www.semanticweb.org/avata/ontologies/2021/10/basket\")"
   ]
  },
  {
   "cell_type": "markdown",
   "metadata": {},
   "source": [
    "### Games"
   ]
  },
  {
   "cell_type": "code",
   "execution_count": 4,
   "metadata": {},
   "outputs": [],
   "source": [
    "#load the cvs file in memory ATTENZIONE sostituire nome e indexcol\n",
    "games=pd.read_csv(gamesUrl,sep=',',index_col='GAME_ID')\n",
    "\n",
    "#create the graph\n",
    "g = Graph()\n",
    "#bind the namespaces to a prefix for a more readable output\n",
    "g.bind(\"foaf\", FOAF)\n",
    "g.bind(\"xsd\",XSD)\n",
    "g.bind(\"so\",SO)"
   ]
  },
  {
   "cell_type": "code",
   "execution_count": 5,
   "metadata": {},
   "outputs": [
    {
     "name": "stdout",
     "output_type": "stream",
     "text": [
      "Wall time: 16.2 s\n"
     ]
    }
   ],
   "source": [
    "%%time\n",
    "#iterate over the dataframe\n",
    "for index,row in games.iterrows():\n",
    "    #create the node to add to the graph\n",
    "        \n",
    "    idU= 'game'+str(index) \n",
    "    game=URIRef(SO[idU])\n",
    "    #addtriples using store's add method\n",
    "    g.add((game, RDF.type, SO.game))\n",
    "    datetime.datetime.strptime(str(row['GAME_DATE_EST']),'%Y-%m-%d')\n",
    "    g.add((game,SO['gameDate'],Literal(row['GAME_DATE_EST'],datatype=XSD.date)))\n",
    "    g.add((game,SO['homeTeamWins'],Literal(row['HOME_TEAM_WINS'],datatype=XSD.boolean)))\n",
    "    #add the edge connecting teams and games\n",
    "    #home team\n",
    "    idL=\"team\"+str(row['HOME_TEAM_ID'])\n",
    "    homeTeam=URIRef(SO[idL])\n",
    "    g.add((homeTeam,SO['homeClub'],game))\n",
    "\n",
    "    #visitor team\n",
    "    idL=\"team\"+str(row['VISITOR_TEAM_ID'])\n",
    "    visitorTeam=URIRef(SO[idL]) \n",
    "    g.add((visitorTeam,SO['awayClub'],game))"
   ]
  },
  {
   "cell_type": "code",
   "execution_count": 6,
   "metadata": {},
   "outputs": [
    {
     "name": "stdout",
     "output_type": "stream",
     "text": [
      "--- saving serialization ---\n",
      "Wall time: 18.1 s\n"
     ]
    }
   ],
   "source": [
    "%%time\n",
    "# print all the data in the Turtle format\n",
    "print(\"--- saving serialization ---\")\n",
    "with open(savePath + 'game.ttl', 'w') as file:\n",
    "    file.write(g.serialize(format='turtle'))"
   ]
  },
  {
   "cell_type": "markdown",
   "metadata": {},
   "source": [
    "### Teams"
   ]
  },
  {
   "cell_type": "code",
   "execution_count": 7,
   "metadata": {},
   "outputs": [],
   "source": [
    "#read input\n",
    "teams=pd.read_csv(teamsUrl,sep=',',index_col='TEAM_ID')\n",
    "\n",
    "#create the graph\n",
    "g=Graph()\n",
    "\n",
    "#bind the namespaces to a prefix for a more readable output\n",
    "g.bind(\"foaf\", FOAF)\n",
    "g.bind(\"xsd\",XSD)\n",
    "g.bind(\"so\",SO)"
   ]
  },
  {
   "cell_type": "code",
   "execution_count": 8,
   "metadata": {},
   "outputs": [
    {
     "name": "stdout",
     "output_type": "stream",
     "text": [
      "Wall time: 107 ms\n"
     ]
    }
   ],
   "source": [
    "%%time\n",
    "#iterate over dataframe\n",
    "for index,row in teams.iterrows():\n",
    "    #attention here decide how to identify teams here i use only the ID\n",
    "    idU=\"team\"+str(index)\n",
    "    team=URIRef(SO[idU])\n",
    "    \n",
    "    #add triple team \n",
    "    g.add((team,RDF.type,SO.team))\n",
    "    \n",
    "    g.add((team,SO['nickname'],Literal(row['NICKNAME'],datatype=XSD.string)))\n",
    "    g.add((team,SO['abbreviation'],Literal(row['ABBREVIATION'],datatype=XSD.string)))\n",
    "    g.add((team,SO['yearFounded'],Literal(row['YEARFOUNDED'],datatype=XSD.int)))\n",
    "   \n",
    "    #insert city and arena\n",
    "    #I replace empty spaces with - so to have valid uri\n",
    "    cityName=row['CITY'].replace(\" \",\"-\")\n",
    "    \n",
    "    idL=\"city\"+str(cityName)\n",
    "    city=URIRef(SO[idL])\n",
    "    \n",
    "    g.add((city,RDF.type,SO.city))\n",
    "    g.add((team,SO['hasHomeCity'],URIRef(SO[idL])))\n",
    "    g.add((city,SO['cityName'],Literal(row['CITY'],datatype=XSD.string)))\n",
    "    \n",
    "    \n",
    "    arenaName=row['ARENA'].replace(\" \",\"-\")\n",
    "    \n",
    "    \n",
    "    idL=\"arena\"+str(arenaName)\n",
    "    \n",
    "    arena=URIRef(SO[idL])\n",
    "    \n",
    "    g.add((arena,RDF.type,SO.arena))\n",
    "    g.add((team,SO['hasHomeArena'],URIRef(SO[idL])))\n",
    "    g.add((arena,SO['arenaName'],Literal(row['ARENA'],datatype=XSD.string)))\n",
    "    \n",
    "    g.add((arena,SO['arenaCapacity'],Literal(row['ARENACAPACITY'],datatype=XSD.float)))\n",
    "    \n",
    "    #relationship between arena and city\n",
    "    g.add((arena,SO['isInCity'],city))"
   ]
  },
  {
   "cell_type": "code",
   "execution_count": 9,
   "metadata": {},
   "outputs": [
    {
     "name": "stdout",
     "output_type": "stream",
     "text": [
      "--- saving serialization ---\n",
      "Wall time: 121 ms\n"
     ]
    }
   ],
   "source": [
    "%%time\n",
    "# print all the data in the Turtle format\n",
    "print(\"--- saving serialization ---\")\n",
    "with open(savePath + 'teams.ttl', 'w') as file:\n",
    "    file.write(g.serialize(format='turtle'))"
   ]
  },
  {
   "cell_type": "markdown",
   "metadata": {},
   "source": [
    "### Rankings"
   ]
  },
  {
   "cell_type": "code",
   "execution_count": 10,
   "metadata": {},
   "outputs": [],
   "source": [
    "#read input\n",
    "ranking=pd.read_csv(rankingUrl,sep=',',index_col='TEAM_ID')\n",
    "\n",
    "#create the graph\n",
    "g=Graph()\n",
    "\n",
    "#bind the namespaces to a prefix for a more readable output\n",
    "g.bind(\"foaf\", FOAF)\n",
    "g.bind(\"xsd\",XSD)\n",
    "g.bind(\"so\",SO)"
   ]
  },
  {
   "cell_type": "code",
   "execution_count": 11,
   "metadata": {},
   "outputs": [
    {
     "name": "stdout",
     "output_type": "stream",
     "text": [
      "Wall time: 1min 31s\n"
     ]
    }
   ],
   "source": [
    "%%time\n",
    "#iterate over the dataframe\n",
    "for index,row in ranking.iterrows():\n",
    "    \n",
    "    idU=\"team\"+str(index)+\"-\"+str(row['STANDINGSDATE'])\n",
    "    \n",
    "    ranking=URIRef(SO[idU])\n",
    "    \n",
    "    g.add((ranking,RDF.type,SO.ranking))\n",
    "    \n",
    "    #add datetime and rank\n",
    "    datetime.datetime.strptime(str(row['STANDINGSDATE']),'%Y-%m-%d')\n",
    "    g.add((ranking,SO['date'],Literal(row['STANDINGSDATE'],datatype=XSD.date)))\n",
    "    \n",
    "    g.add((ranking,SO['rank'],Literal(row['W_PCT'],datatype=XSD.double)))\n",
    "   \n",
    "    #relationship between ranking and team\n",
    "    idL=\"team\"+str(index)\n",
    "    \n",
    "    team=URIRef(SO[idL])\n",
    "    #relationship between ranking and teams\n",
    "    g.add((team,SO['hasRanking'],ranking))"
   ]
  },
  {
   "cell_type": "code",
   "execution_count": 12,
   "metadata": {},
   "outputs": [
    {
     "name": "stdout",
     "output_type": "stream",
     "text": [
      "--- saving serialization ---\n",
      "Wall time: 1min 24s\n"
     ]
    }
   ],
   "source": [
    "%%time\n",
    "# print all the data in the Turtle format\n",
    "print(\"--- saving serialization ---\")\n",
    "with open(savePath + 'ranking.ttl', 'w') as file:\n",
    "    file.write(g.serialize(format='turtle'))"
   ]
  },
  {
   "cell_type": "markdown",
   "metadata": {},
   "source": [
    "### Players"
   ]
  },
  {
   "cell_type": "code",
   "execution_count": 13,
   "metadata": {},
   "outputs": [],
   "source": [
    "#maybe insert keep default na\n",
    "person=pd.read_csv(playerUrl,sep=',',index_col='PLAYER_ID')\n",
    "#create the graph\n",
    "g=Graph()\n",
    "\n",
    "#bind the namespaces to a prefix for a more readable output\n",
    "g.bind(\"foaf\", FOAF)\n",
    "g.bind(\"xsd\",XSD)\n",
    "g.bind(\"so\",SO)"
   ]
  },
  {
   "cell_type": "code",
   "execution_count": 14,
   "metadata": {},
   "outputs": [
    {
     "name": "stdout",
     "output_type": "stream",
     "text": [
      "Wall time: 3.53 s\n"
     ]
    }
   ],
   "source": [
    "%%time\n",
    "for index,row in person.iterrows():\n",
    "    #create the node to add to the graph\n",
    "    idU=\"person\"+str(index)\n",
    "    Person=URIRef(SO[idU])    \n",
    "    g.add((Person,RDF.type,SO.Person))\n",
    "    \n",
    "    #process player name\n",
    "    name=row['PLAYER_NAME'].split(' ')\n",
    "    #0 per il nome print(Literal(name[0],datatype=XSD.string))\n",
    "    \n",
    "    #-1 per il cognome print(Literal(name[-1],datatype=XSD.string))   \n",
    "    if(len('name')>1):\n",
    "        g.add((Person,SO['firstName'],Literal(name[0],datatype=XSD.string)))\n",
    "       \n",
    "        g.add((Person,SO['lastName'],Literal(name[-1],datatype=XSD.string))) \n",
    "        \n",
    "    else:\n",
    "        g.add((Person,SO['lastName'],Literal(name[0],datatype=XSD.string)))\n",
    "    \n",
    "    \n",
    "    \n",
    "    \n",
    "    #processing Partecipation\n",
    "    #uri of partecipation composed by playerid and by season    \n",
    "    \n",
    "    idH=\"Partecipation\"+str(index)+str(row['SEASON'])\n",
    "    Partecipation=URIRef(SO[idH])\n",
    "    g.add((Partecipation,RDF.type,SO.Partecipation))\n",
    "    #relation between Partecipation and Person\n",
    "    g.add((Person,SO['playedIn'],Partecipation))\n",
    "    \n",
    "    #relation between partecipation and Team\n",
    "    idTeam=\"team\"+str(row['TEAM_ID'])\n",
    "    Team=URIRef(SO[idTeam])\n",
    "    g.add((Partecipation,SO['playedFor'],Team))\n",
    "    \n",
    "    #insert year for partecipation ATT: IT'S AN INT?\n",
    "    g.add((Partecipation,SO['year'],Literal(row['SEASON'],datatype=XSD.int)))\n"
   ]
  },
  {
   "cell_type": "code",
   "execution_count": 15,
   "metadata": {},
   "outputs": [
    {
     "name": "stdout",
     "output_type": "stream",
     "text": [
      "Wall time: 1min 15s\n"
     ]
    }
   ],
   "source": [
    "%%time\n",
    "#processing play in  \n",
    "gamedetails=pd.read_csv(gameDetailUrl,sep=',',index_col='GAME_ID')\n",
    "for index,row in gamedetails.iterrows():         \n",
    "    idU=\"person\"+str(row['PLAYER_ID'])\n",
    "    Person=URIRef(SO[idU]) \n",
    "    idL= \"game\"+str(index) \n",
    "    Game=URIRef(SO[idL])\n",
    "   #add relationship between person and game\n",
    "    g.add((Person,SO['playInGame'],Game)) "
   ]
  },
  {
   "cell_type": "code",
   "execution_count": 16,
   "metadata": {},
   "outputs": [
    {
     "name": "stdout",
     "output_type": "stream",
     "text": [
      "--- saving serialization ---\n",
      "Wall time: 45.6 s\n"
     ]
    }
   ],
   "source": [
    "%%time\n",
    "# print all the data in the Turtle format\n",
    "print(\"--- saving serialization ---\")\n",
    "with open(savePath + 'person.ttl', 'w') as file:\n",
    "    file.write(g.serialize(format='turtle'))"
   ]
  }
 ],
 "metadata": {
  "kernelspec": {
   "display_name": "Python 3",
   "language": "python",
   "name": "python3"
  },
  "language_info": {
   "codemirror_mode": {
    "name": "ipython",
    "version": 3
   },
   "file_extension": ".py",
   "mimetype": "text/x-python",
   "name": "python",
   "nbconvert_exporter": "python",
   "pygments_lexer": "ipython3",
   "version": "3.9.0"
  }
 },
 "nbformat": 4,
 "nbformat_minor": 2
}
